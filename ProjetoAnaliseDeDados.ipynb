{
 "cells": [
  {
   "cell_type": "markdown",
   "id": "ff24e6b3",
   "metadata": {},
   "source": [
    "# Projeto análise de dados ProUni"
   ]
  },
  {
   "cell_type": "code",
   "execution_count": 1,
   "id": "21e3bb69",
   "metadata": {},
   "outputs": [],
   "source": [
    "import pandas as pd\n",
    "import matplotlib"
   ]
  },
  {
   "cell_type": "code",
   "execution_count": 2,
   "id": "043599c2",
   "metadata": {},
   "outputs": [],
   "source": [
    "dadosProUni = pd.read_csv(r\"ProuniRelatorioDadosAbertos2020.csv\", sep = \";\",encoding = 'ISO-8859-1')"
   ]
  },
  {
   "cell_type": "code",
   "execution_count": 3,
   "id": "e37801d7",
   "metadata": {},
   "outputs": [
    {
     "data": {
      "text/html": [
       "<div>\n",
       "<style scoped>\n",
       "    .dataframe tbody tr th:only-of-type {\n",
       "        vertical-align: middle;\n",
       "    }\n",
       "\n",
       "    .dataframe tbody tr th {\n",
       "        vertical-align: top;\n",
       "    }\n",
       "\n",
       "    .dataframe thead th {\n",
       "        text-align: right;\n",
       "    }\n",
       "</style>\n",
       "<table border=\"1\" class=\"dataframe\">\n",
       "  <thead>\n",
       "    <tr style=\"text-align: right;\">\n",
       "      <th></th>\n",
       "      <th>ANO_CONCESSAO_BOLSA</th>\n",
       "      <th>CODIGO_EMEC_IES_BOLSA</th>\n",
       "      <th>NOME_IES_BOLSA</th>\n",
       "      <th>MUNICIPIO</th>\n",
       "      <th>CAMPUS</th>\n",
       "      <th>TIPO_BOLSA</th>\n",
       "      <th>MODALIDADE_ENSINO_BOLSA</th>\n",
       "      <th>NOME_CURSO_BOLSA</th>\n",
       "      <th>NOME_TURNO_CURSO_BOLSA</th>\n",
       "      <th>CPF_BENEFICIARIO</th>\n",
       "      <th>SEXO_BENEFICIARIO</th>\n",
       "      <th>RACA_BENEFICIARIO</th>\n",
       "      <th>DATA_NASCIMENTO</th>\n",
       "      <th>BENEFICIARIO_DEFICIENTE_FISICO</th>\n",
       "      <th>REGIAO_BENEFICIARIO</th>\n",
       "      <th>UF_BENEFICIARIO</th>\n",
       "      <th>MUNICIPIO_BENEFICIARIO</th>\n",
       "    </tr>\n",
       "  </thead>\n",
       "  <tbody>\n",
       "    <tr>\n",
       "      <th>0</th>\n",
       "      <td>2020</td>\n",
       "      <td>322</td>\n",
       "      <td>UNIVERSIDADE PAULISTA</td>\n",
       "      <td>IPATINGA</td>\n",
       "      <td>IPATINGA</td>\n",
       "      <td>INTEGRAL</td>\n",
       "      <td>EAD</td>\n",
       "      <td>PEDAGOGIA</td>\n",
       "      <td>CURSO A DISTANCIA</td>\n",
       "      <td>991.XXX.XXX-91</td>\n",
       "      <td>F</td>\n",
       "      <td>Parda</td>\n",
       "      <td>11/08/1973</td>\n",
       "      <td>N</td>\n",
       "      <td>SUDESTE</td>\n",
       "      <td>MG</td>\n",
       "      <td>GOVERNADOR VALADARES</td>\n",
       "    </tr>\n",
       "    <tr>\n",
       "      <th>1</th>\n",
       "      <td>2020</td>\n",
       "      <td>163</td>\n",
       "      <td>UNIVERSIDADE ESTACIO DE SA</td>\n",
       "      <td>FORTALEZA</td>\n",
       "      <td>EAD VIA CORPVS - CE</td>\n",
       "      <td>INTEGRAL</td>\n",
       "      <td>EAD</td>\n",
       "      <td>MARKETING</td>\n",
       "      <td>CURSO A DISTANCIA</td>\n",
       "      <td>067.XXX.XXX-01</td>\n",
       "      <td>M</td>\n",
       "      <td>Parda</td>\n",
       "      <td>13/05/1987</td>\n",
       "      <td>N</td>\n",
       "      <td>NORDESTE</td>\n",
       "      <td>CE</td>\n",
       "      <td>FORTALEZA</td>\n",
       "    </tr>\n",
       "    <tr>\n",
       "      <th>2</th>\n",
       "      <td>2020</td>\n",
       "      <td>17670</td>\n",
       "      <td>FACULDADE DE QUIXERAMOBIM</td>\n",
       "      <td>QUIXERAMOBIM</td>\n",
       "      <td>FACULDADE DE QUIXERAMOBIM - UNIQ</td>\n",
       "      <td>INTEGRAL</td>\n",
       "      <td>PRESENCIAL</td>\n",
       "      <td>FARMACIA</td>\n",
       "      <td>NOTURNO</td>\n",
       "      <td>623.XXX.XXX-27</td>\n",
       "      <td>M</td>\n",
       "      <td>Parda</td>\n",
       "      <td>23/07/2001</td>\n",
       "      <td>N</td>\n",
       "      <td>NORDESTE</td>\n",
       "      <td>CE</td>\n",
       "      <td>MOMBACA</td>\n",
       "    </tr>\n",
       "    <tr>\n",
       "      <th>3</th>\n",
       "      <td>2020</td>\n",
       "      <td>203</td>\n",
       "      <td>UNIVERSIDADE SCO JUDAS TADEU</td>\n",
       "      <td>SAO PAULO</td>\n",
       "      <td>PAULISTA</td>\n",
       "      <td>PARCIAL</td>\n",
       "      <td>PRESENCIAL</td>\n",
       "      <td>DIREITO</td>\n",
       "      <td>MATUTINO</td>\n",
       "      <td>089.XXX.XXX-40</td>\n",
       "      <td>F</td>\n",
       "      <td>Branca</td>\n",
       "      <td>04/04/2003</td>\n",
       "      <td>N</td>\n",
       "      <td>NORDESTE</td>\n",
       "      <td>BA</td>\n",
       "      <td>IBITITA</td>\n",
       "    </tr>\n",
       "    <tr>\n",
       "      <th>4</th>\n",
       "      <td>2020</td>\n",
       "      <td>203</td>\n",
       "      <td>UNIVERSIDADE SCO JUDAS TADEU</td>\n",
       "      <td>SAO PAULO</td>\n",
       "      <td>PAULISTA</td>\n",
       "      <td>INTEGRAL</td>\n",
       "      <td>PRESENCIAL</td>\n",
       "      <td>DIREITO</td>\n",
       "      <td>MATUTINO</td>\n",
       "      <td>173.XXX.XXX-09</td>\n",
       "      <td>F</td>\n",
       "      <td>Branca</td>\n",
       "      <td>07/12/1977</td>\n",
       "      <td>N</td>\n",
       "      <td>SUDESTE</td>\n",
       "      <td>SP</td>\n",
       "      <td>SAO PAULO</td>\n",
       "    </tr>\n",
       "  </tbody>\n",
       "</table>\n",
       "</div>"
      ],
      "text/plain": [
       "   ANO_CONCESSAO_BOLSA  CODIGO_EMEC_IES_BOLSA                NOME_IES_BOLSA  \\\n",
       "0                 2020                    322         UNIVERSIDADE PAULISTA   \n",
       "1                 2020                    163    UNIVERSIDADE ESTACIO DE SA   \n",
       "2                 2020                  17670     FACULDADE DE QUIXERAMOBIM   \n",
       "3                 2020                    203  UNIVERSIDADE SCO JUDAS TADEU   \n",
       "4                 2020                    203  UNIVERSIDADE SCO JUDAS TADEU   \n",
       "\n",
       "      MUNICIPIO                            CAMPUS TIPO_BOLSA  \\\n",
       "0      IPATINGA                          IPATINGA   INTEGRAL   \n",
       "1     FORTALEZA               EAD VIA CORPVS - CE   INTEGRAL   \n",
       "2  QUIXERAMOBIM  FACULDADE DE QUIXERAMOBIM - UNIQ   INTEGRAL   \n",
       "3     SAO PAULO                          PAULISTA    PARCIAL   \n",
       "4     SAO PAULO                          PAULISTA   INTEGRAL   \n",
       "\n",
       "  MODALIDADE_ENSINO_BOLSA NOME_CURSO_BOLSA NOME_TURNO_CURSO_BOLSA  \\\n",
       "0                     EAD        PEDAGOGIA      CURSO A DISTANCIA   \n",
       "1                     EAD        MARKETING      CURSO A DISTANCIA   \n",
       "2              PRESENCIAL         FARMACIA                NOTURNO   \n",
       "3              PRESENCIAL          DIREITO               MATUTINO   \n",
       "4              PRESENCIAL          DIREITO               MATUTINO   \n",
       "\n",
       "  CPF_BENEFICIARIO SEXO_BENEFICIARIO RACA_BENEFICIARIO DATA_NASCIMENTO  \\\n",
       "0   991.XXX.XXX-91                 F             Parda      11/08/1973   \n",
       "1   067.XXX.XXX-01                 M             Parda      13/05/1987   \n",
       "2   623.XXX.XXX-27                 M             Parda      23/07/2001   \n",
       "3   089.XXX.XXX-40                 F            Branca      04/04/2003   \n",
       "4   173.XXX.XXX-09                 F            Branca      07/12/1977   \n",
       "\n",
       "  BENEFICIARIO_DEFICIENTE_FISICO REGIAO_BENEFICIARIO UF_BENEFICIARIO  \\\n",
       "0                              N             SUDESTE              MG   \n",
       "1                              N            NORDESTE              CE   \n",
       "2                              N            NORDESTE              CE   \n",
       "3                              N            NORDESTE              BA   \n",
       "4                              N             SUDESTE              SP   \n",
       "\n",
       "  MUNICIPIO_BENEFICIARIO  \n",
       "0   GOVERNADOR VALADARES  \n",
       "1              FORTALEZA  \n",
       "2                MOMBACA  \n",
       "3                IBITITA  \n",
       "4              SAO PAULO  "
      ]
     },
     "execution_count": 3,
     "metadata": {},
     "output_type": "execute_result"
    }
   ],
   "source": [
    "dadosProUni.head()"
   ]
  },
  {
   "cell_type": "code",
   "execution_count": 4,
   "id": "0f475fb1",
   "metadata": {},
   "outputs": [
    {
     "data": {
      "text/plain": [
       "array(['ANO_CONCESSAO_BOLSA', 'CODIGO_EMEC_IES_BOLSA', 'NOME_IES_BOLSA',\n",
       "       'MUNICIPIO', 'CAMPUS', 'TIPO_BOLSA', 'MODALIDADE_ENSINO_BOLSA',\n",
       "       'NOME_CURSO_BOLSA', 'NOME_TURNO_CURSO_BOLSA', 'CPF_BENEFICIARIO',\n",
       "       'SEXO_BENEFICIARIO', 'RACA_BENEFICIARIO', 'DATA_NASCIMENTO',\n",
       "       'BENEFICIARIO_DEFICIENTE_FISICO', 'REGIAO_BENEFICIARIO',\n",
       "       'UF_BENEFICIARIO', 'MUNICIPIO_BENEFICIARIO'], dtype=object)"
      ]
     },
     "execution_count": 4,
     "metadata": {},
     "output_type": "execute_result"
    }
   ],
   "source": [
    "dadosProUni.columns.values"
   ]
  },
  {
   "cell_type": "markdown",
   "id": "4ad11b9e",
   "metadata": {},
   "source": [
    "O Comando abaixo estou criando uma nova variável, somente com as colunas que quero usar para analisar os dados."
   ]
  },
  {
   "cell_type": "code",
   "execution_count": 5,
   "id": "1a2f6de2",
   "metadata": {},
   "outputs": [],
   "source": [
    "colunasSelecionadas = ['CPF_BENEFICIARIO','CODIGO_EMEC_IES_BOLSA', 'NOME_IES_BOLSA',\n",
    "       'MUNICIPIO', 'CAMPUS', 'TIPO_BOLSA', 'MODALIDADE_ENSINO_BOLSA',\n",
    "       'NOME_CURSO_BOLSA', 'NOME_TURNO_CURSO_BOLSA', \n",
    "       'SEXO_BENEFICIARIO', 'RACA_BENEFICIARIO', 'DATA_NASCIMENTO',\n",
    "       'BENEFICIARIO_DEFICIENTE_FISICO', 'REGIAO_BENEFICIARIO',\n",
    "       'UF_BENEFICIARIO', 'MUNICIPIO_BENEFICIARIO']"
   ]
  },
  {
   "cell_type": "markdown",
   "id": "b347f63e",
   "metadata": {},
   "source": [
    "O Comando abaixo estou criando uma nova variável setando minha nova tabela somente com os valores desejados para análise"
   ]
  },
  {
   "cell_type": "code",
   "execution_count": 6,
   "id": "9ab2e125",
   "metadata": {},
   "outputs": [],
   "source": [
    " dadosSelecionados = dadosProUni.filter(items=colunasSelecionadas)"
   ]
  },
  {
   "cell_type": "code",
   "execution_count": 7,
   "id": "0f245283",
   "metadata": {},
   "outputs": [
    {
     "data": {
      "text/html": [
       "<div>\n",
       "<style scoped>\n",
       "    .dataframe tbody tr th:only-of-type {\n",
       "        vertical-align: middle;\n",
       "    }\n",
       "\n",
       "    .dataframe tbody tr th {\n",
       "        vertical-align: top;\n",
       "    }\n",
       "\n",
       "    .dataframe thead th {\n",
       "        text-align: right;\n",
       "    }\n",
       "</style>\n",
       "<table border=\"1\" class=\"dataframe\">\n",
       "  <thead>\n",
       "    <tr style=\"text-align: right;\">\n",
       "      <th></th>\n",
       "      <th>CPF_BENEFICIARIO</th>\n",
       "      <th>CODIGO_EMEC_IES_BOLSA</th>\n",
       "      <th>NOME_IES_BOLSA</th>\n",
       "      <th>MUNICIPIO</th>\n",
       "      <th>CAMPUS</th>\n",
       "      <th>TIPO_BOLSA</th>\n",
       "      <th>MODALIDADE_ENSINO_BOLSA</th>\n",
       "      <th>NOME_CURSO_BOLSA</th>\n",
       "      <th>NOME_TURNO_CURSO_BOLSA</th>\n",
       "      <th>SEXO_BENEFICIARIO</th>\n",
       "      <th>RACA_BENEFICIARIO</th>\n",
       "      <th>DATA_NASCIMENTO</th>\n",
       "      <th>BENEFICIARIO_DEFICIENTE_FISICO</th>\n",
       "      <th>REGIAO_BENEFICIARIO</th>\n",
       "      <th>UF_BENEFICIARIO</th>\n",
       "      <th>MUNICIPIO_BENEFICIARIO</th>\n",
       "    </tr>\n",
       "  </thead>\n",
       "  <tbody>\n",
       "    <tr>\n",
       "      <th>0</th>\n",
       "      <td>991.XXX.XXX-91</td>\n",
       "      <td>322</td>\n",
       "      <td>UNIVERSIDADE PAULISTA</td>\n",
       "      <td>IPATINGA</td>\n",
       "      <td>IPATINGA</td>\n",
       "      <td>INTEGRAL</td>\n",
       "      <td>EAD</td>\n",
       "      <td>PEDAGOGIA</td>\n",
       "      <td>CURSO A DISTANCIA</td>\n",
       "      <td>F</td>\n",
       "      <td>Parda</td>\n",
       "      <td>11/08/1973</td>\n",
       "      <td>N</td>\n",
       "      <td>SUDESTE</td>\n",
       "      <td>MG</td>\n",
       "      <td>GOVERNADOR VALADARES</td>\n",
       "    </tr>\n",
       "    <tr>\n",
       "      <th>1</th>\n",
       "      <td>067.XXX.XXX-01</td>\n",
       "      <td>163</td>\n",
       "      <td>UNIVERSIDADE ESTACIO DE SA</td>\n",
       "      <td>FORTALEZA</td>\n",
       "      <td>EAD VIA CORPVS - CE</td>\n",
       "      <td>INTEGRAL</td>\n",
       "      <td>EAD</td>\n",
       "      <td>MARKETING</td>\n",
       "      <td>CURSO A DISTANCIA</td>\n",
       "      <td>M</td>\n",
       "      <td>Parda</td>\n",
       "      <td>13/05/1987</td>\n",
       "      <td>N</td>\n",
       "      <td>NORDESTE</td>\n",
       "      <td>CE</td>\n",
       "      <td>FORTALEZA</td>\n",
       "    </tr>\n",
       "    <tr>\n",
       "      <th>2</th>\n",
       "      <td>623.XXX.XXX-27</td>\n",
       "      <td>17670</td>\n",
       "      <td>FACULDADE DE QUIXERAMOBIM</td>\n",
       "      <td>QUIXERAMOBIM</td>\n",
       "      <td>FACULDADE DE QUIXERAMOBIM - UNIQ</td>\n",
       "      <td>INTEGRAL</td>\n",
       "      <td>PRESENCIAL</td>\n",
       "      <td>FARMACIA</td>\n",
       "      <td>NOTURNO</td>\n",
       "      <td>M</td>\n",
       "      <td>Parda</td>\n",
       "      <td>23/07/2001</td>\n",
       "      <td>N</td>\n",
       "      <td>NORDESTE</td>\n",
       "      <td>CE</td>\n",
       "      <td>MOMBACA</td>\n",
       "    </tr>\n",
       "    <tr>\n",
       "      <th>3</th>\n",
       "      <td>089.XXX.XXX-40</td>\n",
       "      <td>203</td>\n",
       "      <td>UNIVERSIDADE SCO JUDAS TADEU</td>\n",
       "      <td>SAO PAULO</td>\n",
       "      <td>PAULISTA</td>\n",
       "      <td>PARCIAL</td>\n",
       "      <td>PRESENCIAL</td>\n",
       "      <td>DIREITO</td>\n",
       "      <td>MATUTINO</td>\n",
       "      <td>F</td>\n",
       "      <td>Branca</td>\n",
       "      <td>04/04/2003</td>\n",
       "      <td>N</td>\n",
       "      <td>NORDESTE</td>\n",
       "      <td>BA</td>\n",
       "      <td>IBITITA</td>\n",
       "    </tr>\n",
       "    <tr>\n",
       "      <th>4</th>\n",
       "      <td>173.XXX.XXX-09</td>\n",
       "      <td>203</td>\n",
       "      <td>UNIVERSIDADE SCO JUDAS TADEU</td>\n",
       "      <td>SAO PAULO</td>\n",
       "      <td>PAULISTA</td>\n",
       "      <td>INTEGRAL</td>\n",
       "      <td>PRESENCIAL</td>\n",
       "      <td>DIREITO</td>\n",
       "      <td>MATUTINO</td>\n",
       "      <td>F</td>\n",
       "      <td>Branca</td>\n",
       "      <td>07/12/1977</td>\n",
       "      <td>N</td>\n",
       "      <td>SUDESTE</td>\n",
       "      <td>SP</td>\n",
       "      <td>SAO PAULO</td>\n",
       "    </tr>\n",
       "  </tbody>\n",
       "</table>\n",
       "</div>"
      ],
      "text/plain": [
       "  CPF_BENEFICIARIO  CODIGO_EMEC_IES_BOLSA                NOME_IES_BOLSA  \\\n",
       "0   991.XXX.XXX-91                    322         UNIVERSIDADE PAULISTA   \n",
       "1   067.XXX.XXX-01                    163    UNIVERSIDADE ESTACIO DE SA   \n",
       "2   623.XXX.XXX-27                  17670     FACULDADE DE QUIXERAMOBIM   \n",
       "3   089.XXX.XXX-40                    203  UNIVERSIDADE SCO JUDAS TADEU   \n",
       "4   173.XXX.XXX-09                    203  UNIVERSIDADE SCO JUDAS TADEU   \n",
       "\n",
       "      MUNICIPIO                            CAMPUS TIPO_BOLSA  \\\n",
       "0      IPATINGA                          IPATINGA   INTEGRAL   \n",
       "1     FORTALEZA               EAD VIA CORPVS - CE   INTEGRAL   \n",
       "2  QUIXERAMOBIM  FACULDADE DE QUIXERAMOBIM - UNIQ   INTEGRAL   \n",
       "3     SAO PAULO                          PAULISTA    PARCIAL   \n",
       "4     SAO PAULO                          PAULISTA   INTEGRAL   \n",
       "\n",
       "  MODALIDADE_ENSINO_BOLSA NOME_CURSO_BOLSA NOME_TURNO_CURSO_BOLSA  \\\n",
       "0                     EAD        PEDAGOGIA      CURSO A DISTANCIA   \n",
       "1                     EAD        MARKETING      CURSO A DISTANCIA   \n",
       "2              PRESENCIAL         FARMACIA                NOTURNO   \n",
       "3              PRESENCIAL          DIREITO               MATUTINO   \n",
       "4              PRESENCIAL          DIREITO               MATUTINO   \n",
       "\n",
       "  SEXO_BENEFICIARIO RACA_BENEFICIARIO DATA_NASCIMENTO  \\\n",
       "0                 F             Parda      11/08/1973   \n",
       "1                 M             Parda      13/05/1987   \n",
       "2                 M             Parda      23/07/2001   \n",
       "3                 F            Branca      04/04/2003   \n",
       "4                 F            Branca      07/12/1977   \n",
       "\n",
       "  BENEFICIARIO_DEFICIENTE_FISICO REGIAO_BENEFICIARIO UF_BENEFICIARIO  \\\n",
       "0                              N             SUDESTE              MG   \n",
       "1                              N            NORDESTE              CE   \n",
       "2                              N            NORDESTE              CE   \n",
       "3                              N            NORDESTE              BA   \n",
       "4                              N             SUDESTE              SP   \n",
       "\n",
       "  MUNICIPIO_BENEFICIARIO  \n",
       "0   GOVERNADOR VALADARES  \n",
       "1              FORTALEZA  \n",
       "2                MOMBACA  \n",
       "3                IBITITA  \n",
       "4              SAO PAULO  "
      ]
     },
     "execution_count": 7,
     "metadata": {},
     "output_type": "execute_result"
    }
   ],
   "source": [
    "dadosSelecionados.head()"
   ]
  },
  {
   "cell_type": "markdown",
   "id": "bf482bed",
   "metadata": {},
   "source": [
    "* Quantidade de beneficiários por região do país em ordem decrescente."
   ]
  },
  {
   "cell_type": "code",
   "execution_count": 8,
   "id": "5b84ea05",
   "metadata": {},
   "outputs": [
    {
     "data": {
      "text/plain": [
       "SUDESTE         71644\n",
       "NORDESTE        39252\n",
       "SUL             26376\n",
       "NORTE           16303\n",
       "CENTRO-OESTE    13255\n",
       "Name: REGIAO_BENEFICIARIO, dtype: int64"
      ]
     },
     "execution_count": 8,
     "metadata": {},
     "output_type": "execute_result"
    }
   ],
   "source": [
    "coluna_regiao = dadosSelecionados['REGIAO_BENEFICIARIO']\n",
    "coluna_regiao.value_counts()"
   ]
  },
  {
   "cell_type": "code",
   "execution_count": 9,
   "id": "b02ab9cf",
   "metadata": {},
   "outputs": [
    {
     "data": {
      "text/plain": [
       "<AxesSubplot:>"
      ]
     },
     "execution_count": 9,
     "metadata": {},
     "output_type": "execute_result"
    },
    {
     "data": {
      "image/png": "[encoded data removed]",
      "text/plain": [
       "<Figure size 432x288 with 1 Axes>"
      ]
     },
     "metadata": {
      "needs_background": "light"
     },
     "output_type": "display_data"
    }
   ],
   "source": [
    "coluna_regiao.hist()"
   ]
  },
  {
   "cell_type": "markdown",
   "id": "10da4e84",
   "metadata": {},
   "source": [
    "Com base na análise acima vemos que a maioria esmagadoura dos beneficiários é da região de suldeste."
   ]
  },
  {
   "cell_type": "markdown",
   "id": "efd8a24c",
   "metadata": {},
   "source": [
    "* Quantidade de beneficiário por estado"
   ]
  },
  {
   "cell_type": "code",
   "execution_count": 10,
   "id": "b8e0ed27",
   "metadata": {},
   "outputs": [
    {
     "data": {
      "text/plain": [
       "SP    40379\n",
       "MG    18938\n",
       "RS    11482\n",
       "BA    10253\n",
       "PR     9919\n",
       "RJ     8488\n",
       "CE     6965\n",
       "PE     6710\n",
       "GO     6095\n",
       "MA     6072\n",
       "PA     5944\n",
       "SC     4975\n",
       "ES     3839\n",
       "DF     3697\n",
       "AM     3531\n",
       "PB     2763\n",
       "RO     2754\n",
       "PI     2005\n",
       "MT     1852\n",
       "RN     1810\n",
       "MS     1611\n",
       "TO     1463\n",
       "AL     1387\n",
       "AC     1379\n",
       "SE     1287\n",
       "AP      811\n",
       "RR      421\n",
       "Name: UF_BENEFICIARIO, dtype: int64"
      ]
     },
     "execution_count": 10,
     "metadata": {},
     "output_type": "execute_result"
    }
   ],
   "source": [
    "coluna_uf = dadosSelecionados ['UF_BENEFICIARIO']\n",
    "coluna_uf.value_counts()"
   ]
  },
  {
   "cell_type": "markdown",
   "id": "73655bb6",
   "metadata": {},
   "source": [
    "Na análise por estado, estamos vendo que SP é disparada o estado que possui mais beneficiários"
   ]
  },
  {
   "cell_type": "markdown",
   "id": "260444f9",
   "metadata": {},
   "source": [
    "* Quantidade de beneficiários agora por município"
   ]
  },
  {
   "cell_type": "code",
   "execution_count": 11,
   "id": "5b200512",
   "metadata": {},
   "outputs": [
    {
     "data": {
      "text/plain": [
       "SAO PAULO           18663\n",
       "BELO HORIZONTE       5711\n",
       "BRASILIA             4581\n",
       "CURITIBA             4341\n",
       "SAO LUIS             3852\n",
       "                    ...  \n",
       "URUCUI                  1\n",
       "SANDOVALINA             1\n",
       "CORONEL SAPUCAIA        1\n",
       "CAMPESTRE               1\n",
       "ITAQUIRAI               1\n",
       "Name: MUNICIPIO, Length: 1434, dtype: int64"
      ]
     },
     "execution_count": 11,
     "metadata": {},
     "output_type": "execute_result"
    }
   ],
   "source": [
    "coluna_municipio = dadosSelecionados ['MUNICIPIO']\n",
    "coluna_municipio.value_counts()"
   ]
  },
  {
   "cell_type": "markdown",
   "id": "5cca077b",
   "metadata": {},
   "source": [
    "* Quantidade de beneficiários por raça em ordem decrescente"
   ]
  },
  {
   "cell_type": "code",
   "execution_count": 12,
   "id": "a235e28e",
   "metadata": {},
   "outputs": [
    {
     "data": {
      "text/plain": [
       "Parda            78067\n",
       "Branca           64484\n",
       "Preta            21153\n",
       "Amarela           2900\n",
       "Ind¡gena           153\n",
       "NÆo Informada       73\n",
       "Name: RACA_BENEFICIARIO, dtype: int64"
      ]
     },
     "execution_count": 12,
     "metadata": {},
     "output_type": "execute_result"
    }
   ],
   "source": [
    "coluna_raca = dadosSelecionados ['RACA_BENEFICIARIO']\n",
    "coluna_raca.value_counts()"
   ]
  },
  {
   "cell_type": "markdown",
   "id": "3135b077",
   "metadata": {},
   "source": [
    "Com base na análise acima vemos que a maioria esmagadoura dos beneficiários é Parda."
   ]
  },
  {
   "cell_type": "markdown",
   "id": "9e98d739",
   "metadata": {},
   "source": [
    "* Quantidade de beneficiários por universidade, em ordem decrescente"
   ]
  },
  {
   "cell_type": "code",
   "execution_count": 13,
   "id": "73b1d51a",
   "metadata": {},
   "outputs": [
    {
     "data": {
      "text/plain": [
       "UNIVERSIDADE PAULISTA                     16043\n",
       "CENTRO UNIVERSITARIO LEONARDO DA VINCI     7697\n",
       "UNIVERSIDADE ESTACIO DE SA                 4818\n",
       "UNIVERSIDADE PITAGORAS UNOPAR              4591\n",
       "CENTRO UNIVERSITARIO INTERNACIONAL         3029\n",
       "                                          ...  \n",
       "FACULDADE GIANNA BERETTA                      1\n",
       "FACULDADE ANGLICANA DE ERECHIM                1\n",
       "ESCOLA DE ENGENHARIA KENNEDY                  1\n",
       "FACULDADE PITAGORAS DE IRECÊ                  1\n",
       "FACULDADE ESTACIO DE SANTO ANDR              1\n",
       "Name: NOME_IES_BOLSA, Length: 1375, dtype: int64"
      ]
     },
     "execution_count": 13,
     "metadata": {},
     "output_type": "execute_result"
    }
   ],
   "source": [
    "coluna_universidade = dadosSelecionados ['NOME_IES_BOLSA']\n",
    "coluna_universidade.value_counts()"
   ]
  },
  {
   "cell_type": "markdown",
   "id": "88996eb8",
   "metadata": {},
   "source": [
    "Nos resultados acima vemos que a UNIP (Universidade Paulista)"
   ]
  },
  {
   "cell_type": "markdown",
   "id": "0d980836",
   "metadata": {},
   "source": [
    "* Quantidade de beneficiários por curso"
   ]
  },
  {
   "cell_type": "code",
   "execution_count": 14,
   "id": "5bc7a053",
   "metadata": {},
   "outputs": [
    {
     "data": {
      "text/plain": [
       "DIREITO                                               15082\n",
       "ADMINISTRAÇÃO                                         14888\n",
       "PEDAGOGIA                                             13660\n",
       "ENFERMAGEM                                             9234\n",
       "CIÊNCIAS CONTABEIS                                     8570\n",
       "                                                      ...  \n",
       "SOLDAGEM                                                  1\n",
       "TRADUÇÃO E INTERPRETAÇÃO                                  1\n",
       "SECRETARIADO EXECUTIVO BILINGUE - PORTUGUÊS/INGLÊS        1\n",
       "PROCESSOS METALéRGICOS                                    1\n",
       "COMPUTAÇÃO GRAFICA                                        1\n",
       "Name: NOME_CURSO_BOLSA, Length: 317, dtype: int64"
      ]
     },
     "execution_count": 14,
     "metadata": {},
     "output_type": "execute_result"
    }
   ],
   "source": [
    "coluna_curso = dadosSelecionados['NOME_CURSO_BOLSA']\n",
    "coluna_curso.value_counts()"
   ]
  },
  {
   "cell_type": "markdown",
   "id": "b2bd544c",
   "metadata": {},
   "source": [
    "* Porcentagem de beneficiários entre EAD e Presencial"
   ]
  },
  {
   "cell_type": "code",
   "execution_count": 15,
   "id": "7d48e278",
   "metadata": {},
   "outputs": [
    {
     "data": {
      "text/plain": [
       "[67.73661811424803, 32.26338188575196]"
      ]
     },
     "execution_count": 15,
     "metadata": {},
     "output_type": "execute_result"
    },
    {
     "data": {
      "image/png": "[encoded data removed]",
      "text/plain": [
       "<Figure size 432x288 with 1 Axes>"
      ]
     },
     "metadata": {
      "needs_background": "light"
     },
     "output_type": "display_data"
    }
   ],
   "source": [
    "coluna_modalidade = dadosSelecionados['MODALIDADE_ENSINO_BOLSA']\n",
    "coluna_modalidade.value_counts()\n",
    "\n",
    "porcModalidade = coluna_modalidade.value_counts()\n",
    "\n",
    "porcModalidade = [100*x/porcModalidade.sum() for x in porcModalidade]\n",
    "coluna_modalidade.hist()\n",
    "porcModalidade"
   ]
  },
  {
   "cell_type": "markdown",
   "id": "9a7438f5",
   "metadata": {},
   "source": [
    "Aqui vemos que 67.73% dos beneficiários conseguiram a bolsa na modalidade Presencial e 35,26% conseguiram a bolsa na modalidade EAD"
   ]
  },
  {
   "cell_type": "markdown",
   "id": "7abdb9c7",
   "metadata": {},
   "source": [
    "* Algumas informações relacionada ao ano de nascimento dos beneficiários"
   ]
  },
  {
   "cell_type": "code",
   "execution_count": 16,
   "id": "6dc302cb",
   "metadata": {},
   "outputs": [
    {
     "data": {
      "text/plain": [
       "2001    32998\n",
       "2002    28107\n",
       "2000    21329\n",
       "1999    15030\n",
       "1998    10545\n",
       "        ...  \n",
       "1929        1\n",
       "2017        1\n",
       "2012        1\n",
       "1952        1\n",
       "2019        1\n",
       "Name: ANO_NASCIMENTO, Length: 62, dtype: int64"
      ]
     },
     "execution_count": 16,
     "metadata": {},
     "output_type": "execute_result"
    }
   ],
   "source": [
    "dadosSelecionados['DATA_NASCIMENTO'] = pd.to_datetime (dadosSelecionados['DATA_NASCIMENTO'], format='%d/%m/%Y')\n",
    "dadosSelecionados['ANO_NASCIMENTO'] = dadosSelecionados['DATA_NASCIMENTO'].dt.year\n",
    "\n",
    "coluna_ano = dadosSelecionados['ANO_NASCIMENTO']\n",
    "coluna_ano.value_counts()\n",
    "\n"
   ]
  },
  {
   "cell_type": "markdown",
   "id": "185129cc",
   "metadata": {},
   "source": [
    "Acima temos o somatório dos Anos de Dascimento, visto que o ano mais beneficíarios é de 2001, e o ano destas informações é de 2020 sabemos que a marioria dos beneficiários tinham 19 anos de idade."
   ]
  },
  {
   "cell_type": "code",
   "execution_count": 17,
   "id": "e3642327",
   "metadata": {},
   "outputs": [
    {
     "data": {
      "text/plain": [
       "count    166830.000000\n",
       "mean       1996.950393\n",
       "std           6.601837\n",
       "min        1929.000000\n",
       "25%        1995.000000\n",
       "50%        2000.000000\n",
       "75%        2001.000000\n",
       "max        2020.000000\n",
       "Name: ANO_NASCIMENTO, dtype: float64"
      ]
     },
     "execution_count": 17,
     "metadata": {},
     "output_type": "execute_result"
    },
    {
     "data": {
      "image/png": "[encoded data removed]",
      "text/plain": [
       "<Figure size 432x288 with 1 Axes>"
      ]
     },
     "metadata": {
      "needs_background": "light"
     },
     "output_type": "display_data"
    }
   ],
   "source": [
    "coluna_ano.hist (bins=50)\n",
    "coluna_ano.describe()"
   ]
  },
  {
   "cell_type": "markdown",
   "id": "b41406d3",
   "metadata": {},
   "source": [
    "Acima vemos algumas informações intereçantes. \n",
    "Por exemplo: A média de ano de nascimento é de 1996 então em média os beneficiários tinham 24 anos."
   ]
  }
 ],
 "metadata": {
  "kernelspec": {
   "display_name": "Python 3 (ipykernel)",
   "language": "python",
   "name": "python3"
  },
  "language_info": {
   "codemirror_mode": {
    "name": "ipython",
    "version": 3
   },
   "file_extension": ".py",
   "mimetype": "text/x-python",
   "name": "python",
   "nbconvert_exporter": "python",
   "pygments_lexer": "ipython3",
   "version": "3.9.7"
  }
 },
 "nbformat": 4,
 "nbformat_minor": 5
}
